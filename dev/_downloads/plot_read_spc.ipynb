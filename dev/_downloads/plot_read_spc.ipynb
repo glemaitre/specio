{
  "cells": [
    {
      "cell_type": "code",
      "execution_count": null,
      "metadata": {
        "collapsed": false
      },
      "outputs": [],
      "source": [
        "%matplotlib inline"
      ]
    },
    {
      "cell_type": "markdown",
      "metadata": {},
      "source": [
        "\n# Read SPC Galactic Industries Corporation binary file\n\n\nThis example shows how to read SPC file and plot the results.\n\n\n"
      ]
    },
    {
      "cell_type": "code",
      "execution_count": null,
      "metadata": {
        "collapsed": false
      },
      "outputs": [],
      "source": [
        "from __future__ import print_function\n\nimport matplotlib.pyplot as plt\n\nfrom specio import specread\nfrom specio.datasets import load_spc_path\n\n# Find the path to the SPC toy data\nspc_filename = load_spc_path()\nprint(spc_filename)\n\n# Read the data\nspectra = specread(spc_filename)\n\n# Plot the first spectra\nplt.plot(spectra.wavelength,\n         spectra.spectrum[0])\nplt.xlabel(spectra.meta['xlabel'])\nplt.ylabel(spectra.meta['ylabel'])\nplt.show()"
      ]
    }
  ],
  "metadata": {
    "kernelspec": {
      "display_name": "Python 3",
      "language": "python",
      "name": "python3"
    },
    "language_info": {
      "codemirror_mode": {
        "name": "ipython",
        "version": 3
      },
      "file_extension": ".py",
      "mimetype": "text/x-python",
      "name": "python",
      "nbconvert_exporter": "python",
      "pygments_lexer": "ipython3",
      "version": "3.6.3"
    }
  },
  "nbformat": 4,
  "nbformat_minor": 0
}