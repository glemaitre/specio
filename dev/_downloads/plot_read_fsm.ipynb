{
  "cells": [
    {
      "cell_type": "code",
      "execution_count": null,
      "metadata": {
        "collapsed": false
      },
      "outputs": [],
      "source": [
        "%matplotlib inline"
      ]
    },
    {
      "cell_type": "markdown",
      "metadata": {},
      "source": [
        "\n# Read FSM Perkin Elmer Spotlight IR binary file\n\n\nThis example shows how to read FSM file and plot the results.\n\n\n"
      ]
    },
    {
      "cell_type": "code",
      "execution_count": null,
      "metadata": {
        "collapsed": false
      },
      "outputs": [],
      "source": [
        "from __future__ import print_function\n\nimport matplotlib.pyplot as plt\n\nfrom specio import specread\nfrom specio.datasets import load_fsm_path\n\n# Find the path to the FSM toy data\nfsm_filename = load_fsm_path()\nprint(fsm_filename)\n\n# Read the data\nspectra = specread(fsm_filename)\n\n# Plot the first spectra\nplt.plot(spectra.wavelength,\n         spectra.spectrum[0])\nplt.show()"
      ]
    }
  ],
  "metadata": {
    "kernelspec": {
      "display_name": "Python 3",
      "language": "python",
      "name": "python3"
    },
    "language_info": {
      "codemirror_mode": {
        "name": "ipython",
        "version": 3
      },
      "file_extension": ".py",
      "mimetype": "text/x-python",
      "name": "python",
      "nbconvert_exporter": "python",
      "pygments_lexer": "ipython3",
      "version": "3.6.2"
    }
  },
  "nbformat": 4,
  "nbformat_minor": 0
}